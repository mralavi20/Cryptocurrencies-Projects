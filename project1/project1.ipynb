{
 "cells": [
  {
   "cell_type": "markdown",
   "metadata": {},
   "source": [
    "# <center>CryptoCurrencies CA#1<center>\n",
    "<h1><center>Introduction to Cryptography<center></h1>\n",
    "\n",
    "#### <center>\"Mohammadreza - Alavi\"<center>"
   ]
  },
  {
   "cell_type": "markdown",
   "metadata": {},
   "source": [
    "## StoryLine:\n",
    "We have TinTin and Haddock on two seperate islands and they want to send messages to each other using morse codes!!    \n",
    "\n",
    "However, there is a problem over there. Roberto Rastapopoulos (Their enemy!) is listening to their conversation to figure out what they are saying to each other!    \n",
    "\n",
    "Now TinTin wants to use some encryption and decryption to ensure that Roberto couldn't understand what they are saying. Help TinTin to acheive his goal!"
   ]
  },
  {
   "cell_type": "markdown",
   "metadata": {},
   "source": [
    "## Part 1: Symmetric Cryptography\n",
    "\n"
   ]
  },
  {
   "cell_type": "markdown",
   "metadata": {},
   "source": [
    "**Important Note**: In all steps, use **AES-128** encryption method for encryption/decryption. You can use python cryptography libraries for this purpose."
   ]
  },
  {
   "cell_type": "markdown",
   "metadata": {},
   "source": [
    "TinTin decided to design a symmetirc encryption scheme for his connection with haddock. He asked you to design it for him using these steps:"
   ]
  },
  {
   "cell_type": "code",
   "execution_count": 15,
   "metadata": {},
   "outputs": [],
   "source": [
    "from Crypto.Cipher import AES\n",
    "from Crypto.Util.Padding import pad, unpad\n",
    "from Crypto.Random import get_random_bytes\n",
    "from cryptography.hazmat.primitives.asymmetric import rsa\n",
    "from cryptography.hazmat.primitives import serialization\n",
    "from Crypto.PublicKey import RSA\n",
    "from Crypto.Cipher import PKCS1_OAEP\n",
    "from Crypto.Hash import SHA256\n",
    "from Crypto.Signature import pkcs1_15\n",
    "from Crypto.Signature.pkcs1_15 import PKCS115_SigScheme\n",
    "import binascii"
   ]
  },
  {
   "cell_type": "code",
   "execution_count": 16,
   "metadata": {},
   "outputs": [],
   "source": [
    "def symmetric_encryptor(input_message:str , key:str):\n",
    "    cipher = AES.new (key, AES.MODE_ECB)\n",
    "    cipher_text = cipher.encrypt (pad (message.encode (), AES.block_size))\n",
    "    return cipher_text"
   ]
  },
  {
   "cell_type": "code",
   "execution_count": 17,
   "metadata": {},
   "outputs": [],
   "source": [
    "def symmetric_decryptor(input_ciphertext:str , key:str):\n",
    "    cipher = AES.new (key, AES.MODE_ECB)\n",
    "    text = cipher.decrypt (input_ciphertext)\n",
    "    plain_text = unpad (text, AES.block_size)\n",
    "    return plain_text.decode (\"utf-8\")"
   ]
  },
  {
   "cell_type": "code",
   "execution_count": 18,
   "metadata": {},
   "outputs": [],
   "source": [
    "def symmetric_verifier(plaintext:str, ciphertext:str, key:str):\n",
    "    decrypted_text = symmetric_decryptor(ciphertext, key)\n",
    "    \n",
    "    return plaintext == decrypted_text"
   ]
  },
  {
   "cell_type": "markdown",
   "metadata": {},
   "source": [
    "Now test your functions by encrypting & decrypting the ((confidential-message.txt)) file."
   ]
  },
  {
   "cell_type": "code",
   "execution_count": 19,
   "metadata": {},
   "outputs": [
    {
     "name": "stdout",
     "output_type": "stream",
     "text": [
      "Encrypted text: b'\\xf3\\x84\\x8d\\x95\\x92\"\\x0c;\\xb3`\\xd5\\xaf{\\x86\\x12\\x94H\\xe9\\xbc\\xb6U\\x9e\\xbb\\xcb\\x9b(W\\x9cu<\\xf6SH\\x13:\\xca\\xbc>\\'\\x05\\x98+\\xd8\\xe7S\\x0e\\xa6\\x9e=o\\xd7\\xe0\\xbfdZ\\xe3h\\x80\\'\\xf5\\x8auH\\x03:\\xd3\\xb1\\xf1\\xc3\\xd0*\\xd2\\xfc+\\xbf<gf\\x99bs\\xab6\\x17\\xaf\\x9e\\xb6\\x1e\\no\\x876\\x9c-B\\x0c\\xca\\x0c\\x96\\xd1\\x06w\\x1a\\xb1\\xd7gjMv5\\xf7\\x81s\\xf0P=\\x9ax\\x83\\xc4\\x0boeE|G\\x8b\\x7f\\xc6R$\\xdb\\x92\\xb2o+\\x98\\xe1\\x197\\x8c\\xabOg\\x19\\xf7\\xdc\\x8f\\xe8\\x96\\x1f\\xa8mc\\x98X*\\xdc\\x045W7OI\\xa0;\\xca}\\xdc\\x83|\\xc5]\\x1b\\x983\\xaf8\\x8b\\x81q\\xf6\\x0f,\\xc0\\xd8=\\xc5\\xa9\\x96\\xe9\\xad\\xb2\\x9d\\x9d\\xf0,!\\x0cJ\\xd7\\xb6\\xc7T\\x18\\xa7\\xf6F\\xe8*\\x97;R\\\\\\xab\\xee\\xc7\\x0f\\x7f\\xa12&\\xd5=\\x13k\\xb1\\xdc\\xbe\\xee\\x15f\\xf8\\x1d\\x16Of\\xbe\\xf5cR\\x1fX|\\xd44\\xfa[:\\x1a\\x18\\xec\\x94\\xb3\\xdc\\'\\xb2\\xeab\\x98\\xdf7\\xc7r\\x07\\x95\\x08\\xedp\\xe0\\x00\\xe6u\\xd9\\xcb\\xa4\\x10\\'\\xe0#\\xfb\\xb7ktK\\xc2\\xfe\\x90\\xbb\\xc0\\x00\\'\\x08\\x86\\xd9F]\\xfd~\\x94\\xff\\xf2\\x12\\xb7\\xe8p\\xaf\\x0b\\x19~\\x91\\x06\\xb1\\r\\xe4\\x1a[_\\x15e4\\xf5I\\x98\\xb7\\xf4Q=R4Eg+\\x0e\\xfc\\x19\\x85\\xba\\x93\\xf4\\x8556\\x02\\x81\\x7fVn_\\xc1\\xd0\\x9ah\\x8f\\xda\\x8fv\\x92\\xcb\\x1c\\xb5.iD\\x08[\\xbd\\xce90*\\xc0ar\\xb3V\\xe8\\x08t7\\x8c\\xfa\\x18!\\xcb$\\xc5m\\x00s\\x00\\x84\\\\\\xabss\\x948\\xac\\x0f\\xb3?\\x0f\\xfa=\\xce\\xeb\\xdf[od>\\xf2\\xbc\\x03\\xe6\\xd3|.F\\xaf\\xf6.\\x11\\x93.t\\xb2\\x17\\xc5\\x13/5\\n\\x1e\\x81\\x90\\x0b\\xf2\\x17y\\x9b\\xb7\\x07\\xa1\\x1c\\xfb\\xa0\\xcc\\x03\\x99\\xa6\\xdd\\x0b\\xffY\\x01\\xd5\\xees\\x8f\\xa4.\\xf0\\xce\\xa83L\\xf4\\xd8\\x17\\xc7\\x0e>\\x01\\x96\\xe96\\xc3\\x1a\\xdd2\\x8e\\x9e\\xf1y]\\xf3\\x98\\xc14]m\\xe9\\xba\\xd8I\\x99W\\x85Jc\\xf7\\x85\\xe77T/\\x94\\x85\\xaf{Y\\xd2XgQ\\x10C\\xe0\\xd3\\xfa\\x9b\\x82\\xa1\\xf9\\x1a\"\\x01\\xe7\\xc9m\\x9a\\x98\\xe4!\\xc6\\x94(\\x8c\\xa0\\xaa\\xe0\\xe3\\xd1n/\\xf4\\x00\\xaez\\xfea\\xb6\\x8f\\x93\\x02\\x18\\xc7~}\\x0c\\xe3EIG\\xac\\x9d\\xaf\\x19\\xb6\\x0e\\x9e\\x1f4\\xe5\\xabd\\xc4\\xb9\\x08\\x14\\x0e27\\x94\\xa6\\xad]\\xd7\\'\\xf9\\xfcn\\xde\\xbdc\\xae\\x1c=\\xf0X\\xcc\\x8e#UB\\x82!\\xb2V\\xd1\\xc3(=u\\xceH\\x9c>\\xf2\\x10a\\xc2\\xbc\\xa6u\\xd9\\xc0\\xd4|\\x90P\\x0b\\xab\\x8c\\x11\\xfb\\xcd\\xdd\\xd2\\xe0\\x05\\x8f\\x82\\x8c\\xe7\\xe8\\x00\\x01\\x953n\\xb2=\\xd0\\x8b\\x82w\\x89.9tv\\xcc\\xc2\\xdf\\x0e\\x1d5\\xd1\\xdc@\\xbd;&\\xb4\\x95\\x16\\xb4\\x97\\xb1\\x0eQ\\r(\\xd9\\xa0\\x0bl\\x98Nm\\xa0Cn\\xa0\\xaf\\xfb n\\xc4E\\xe2\\xee\\x91\\x11F\\x18\\xcbi\\xf0v\\x1d\\xde\\x15Z\\xe8\\xcd\\xf9 #)q#S%W\\xef\\x9e\\xc1\\xf2\\x0f@=Y\\xfb\\x85\\x13\\xdc\\x87\\xb7B\\x06\\xa5\\x02\\x92\\xbfQ\\x16\\xd4\\x12\\x9br\\xbb\\xa8\\x9e/#\\xc1{\\xc3\\x06\\xad;\\xc8_\\xd6\\xef\\xc5\\'\\xc3Y\\x82\\x8b\\x1d\\xeeR\\xfaX~\\'\\x91\\x08X\\x11\\xe8\\xff\\xf4\\x1c\\xf2+A0\\xf8\\x03E2b\\xcc\\xc0^\\xa8l\\xcd*Tn\\xb1\\x9b=(\\xb95\\xc26\\xd8\\xa8\\xfd\\xf9w\\xc58\\xfc=\\xa2\\tC\\xe6T\\xbc\\x01\\xad\\x89\\x14\\xfb\\xef\\x07\\xdc\\xed\\x90\\x7fT3*\\xa8\\xc4\\xfc\\x9d\\xe5\\xe5A\\xce&\\xe70\\xc0\\x8b\\xa1J\\xb8\\xc3\\x96+\\x17Q\\x1d\\xc0[\\x95%\\x8aIE\\xf7\\xd5\\xa8\\x8d\\x8c\\xc9'\n"
     ]
    }
   ],
   "source": [
    "file = open (\"confidential-message.txt\", \"r\")\n",
    "message = file.read ()\n",
    "aes_key = get_random_bytes (16)\n",
    "\n",
    "encrypted_text = symmetric_encryptor (message, aes_key)\n",
    "\n",
    "print (\"Encrypted text:\", encrypted_text)"
   ]
  },
  {
   "cell_type": "code",
   "execution_count": 20,
   "metadata": {},
   "outputs": [
    {
     "name": "stdout",
     "output_type": "stream",
     "text": [
      "Decrypted text: From: Tintin\n",
      "To: Captain Haddock\n",
      "Date: August 13, 2023\n",
      "\n",
      "Subject: Top Secret Mission\n",
      "\n",
      "Dear Captain Haddock,\n",
      "\n",
      "I hope this message finds you well. I wanted to inform you about a top-secret mission we've been assigned by the authorities. Our task is to locate the hidden treasure of Red Rackham, which is believed to be buried on a remote island.\n",
      "\n",
      "For security reasons, I've attached a file containing the coordinates of the island's location and a map of the area. Please keep this information strictly confidential and do not share it with anyone else. We must ensure that our enemies do not get hold of this crucial data.\n",
      "\n",
      "To ensure the utmost secrecy, we will communicate using a secure channel and encryption techniques. Please let me know when you're ready to discuss our plan of action.\n",
      "\n",
      "Stay vigilant, my friend. Our adventure awaits.\n",
      "\n",
      "Yours in secrecy,\n",
      "\n",
      "Tintin\n"
     ]
    }
   ],
   "source": [
    "decrypted_text = symmetric_decryptor (encrypted_text, aes_key)\n",
    "print (\"Decrypted text:\", decrypted_text)"
   ]
  },
  {
   "cell_type": "code",
   "execution_count": 21,
   "metadata": {},
   "outputs": [
    {
     "name": "stdout",
     "output_type": "stream",
     "text": [
      "Result: True\n"
     ]
    }
   ],
   "source": [
    "result = symmetric_verifier (message, encrypted_text, aes_key)\n",
    "\n",
    "print (\"Result:\", result)"
   ]
  },
  {
   "cell_type": "markdown",
   "metadata": {},
   "source": [
    "## Part 2: Asymmetric Cryptography"
   ]
  },
  {
   "cell_type": "markdown",
   "metadata": {},
   "source": [
    "After TinTin found how to use symmetric encryption using a key, he faced another problem! How to share a key with haddock without letting Roberto finds it?        "
   ]
  },
  {
   "cell_type": "markdown",
   "metadata": {},
   "source": [
    "Therefore, he decides to use an asymmetric crypto system.    \n",
    "help him to acheive his goal by writing a program which:"
   ]
  },
  {
   "cell_type": "code",
   "execution_count": 22,
   "metadata": {},
   "outputs": [],
   "source": [
    "def RSA_key_generator():\n",
    "    key = RSA.generate (2048)\n",
    "    private_key = key.export_key ()\n",
    "    public_key = key.publickey ().export_key ()\n",
    "    return private_key.decode (\"utf-8\"), public_key.decode (\"utf-8\"), key"
   ]
  },
  {
   "cell_type": "code",
   "execution_count": 23,
   "metadata": {},
   "outputs": [],
   "source": [
    "def asymmetric_encryptor(public_key_str:str, input_message:str):\n",
    "    key = RSA.importKey (public_key_str.encode ())\n",
    "    cipher = PKCS1_OAEP.new (key)\n",
    "    cipher_text = cipher.encrypt (input_message)\n",
    "    return cipher_text"
   ]
  },
  {
   "cell_type": "code",
   "execution_count": 24,
   "metadata": {},
   "outputs": [],
   "source": [
    "def asymmetric_decryptor(private_key:str, ciphertext:str):\n",
    "    key = RSA.importKey (private_key)\n",
    "    cipher = PKCS1_OAEP.new (key)\n",
    "    plain_text = cipher.decrypt (ciphertext)\n",
    "    return plain_text"
   ]
  },
  {
   "cell_type": "code",
   "execution_count": 25,
   "metadata": {},
   "outputs": [],
   "source": [
    "def asymmetric_verifier(plaintext:str, ciphertext:str, private_key:str):\n",
    "    decrypted_text = asymmetric_decryptor (private_key, ciphertext)\n",
    "    \n",
    "    return plaintext == decrypted_text"
   ]
  },
  {
   "cell_type": "markdown",
   "metadata": {},
   "source": [
    "Now test your functions by encrypting & decrypting the ((confidential-message.txt)) file again using new asummetric functions."
   ]
  },
  {
   "cell_type": "code",
   "execution_count": 26,
   "metadata": {},
   "outputs": [
    {
     "name": "stdout",
     "output_type": "stream",
     "text": [
      "Encrypted text: b'|\\x02[\\rH\\xe2\\xf0!\\xd9\\x10\\xe3\\xe5\\xa5<:\\x0b\\x97\\x16\\x0f\\xab\\xa49\\xf24\\xd9\\xdc\\x7f\\x8c\\x11\\t\\x0fw%\\x88#\\x07\\xf5r\\xc3p\\x12\\xe88\\x1e\\xf4\\xb9\\x89\\x0cp::\\xb1{\\x98(]\\xa6\\xf5\\x8ay\\xf6p(7\\xe5\\xcb\\xb12\\xdf\\xf2@\\xaaF\\xe1\\xa7+s\\xd0\\xe6@\\xf9\\xe0\\x16_\\x8b\\xe58(\\'\\xcc\\x13 \\x15M\\xdb\\x89\\xa3x\\xff\\xe51\\x8f\\xbc\\xd0\\x12\\x85\\xc3\\x03\\n\\x95k\\xe7\\xdf:\\xc4\\xcd\\xe8\\xc1B\\xed}\\xa9I\\xbb\\x14Y/\\x96b*\\xbd\\x0e\\xe1R\\xfd9\\xf6k`\\xb0\\xe0\\xa6\\x9a81\\x0c\\x04%\\xde\\xb9\\xe4\\xdfauhk+\\x19\\x06\\xc9\\x1bB)\\xce\\x0cb\\xde\\x81\\xfc\\xe6\\xdcp\\xe3\\x8c?\\xa3\\x13\\x1ds\\xf4\\x83\\\\\\x8a\\xfc\\xaa\\'\\xb2\\xd7d\\xcf\"\\xc5d\\xb5\\x1f*\\x13Z\\xc6!/;\\xeb%\\xc7\\x10\\x8e\\xe3\\x95\\x17I\\xb7\\x91\\xfe\\x01K\\xcf\\x0bFZ\\xb6\\x9e5N\\x8e\\x9c\\xfc\\x1a\\xab\\x16*\\xc7\\xba\\x8a.\\x03\\x13\\xa1\\x1b\\xe8g[\\xfap\\x03h\\x857\\xf1\\x192I\\x1dv\\xec\\xdf'\n"
     ]
    }
   ],
   "source": [
    "private_key, public_key, pair_key = RSA_key_generator ()\n",
    "\n",
    "encrypted_text = asymmetric_encryptor (public_key, aes_key)\n",
    "\n",
    "print (\"Encrypted text:\", encrypted_text)"
   ]
  },
  {
   "cell_type": "code",
   "execution_count": 27,
   "metadata": {},
   "outputs": [
    {
     "name": "stdout",
     "output_type": "stream",
     "text": [
      "AES key: b'%DO-\\\\\\xa6\\xc7\\xaf\\xe1\\xafh|:\\x19\\x17\\xa6'\n",
      "Decrypted text: b'%DO-\\\\\\xa6\\xc7\\xaf\\xe1\\xafh|:\\x19\\x17\\xa6'\n"
     ]
    }
   ],
   "source": [
    "decrypted_text = asymmetric_decryptor (private_key, encrypted_text)\n",
    "\n",
    "print (\"AES key:\", aes_key)\n",
    "print (\"Decrypted text:\", decrypted_text)"
   ]
  },
  {
   "cell_type": "code",
   "execution_count": 28,
   "metadata": {},
   "outputs": [
    {
     "name": "stdout",
     "output_type": "stream",
     "text": [
      "Result: True\n"
     ]
    }
   ],
   "source": [
    "result = asymmetric_verifier (aes_key, encrypted_text, private_key)\n",
    "\n",
    "print (\"Result:\", result)"
   ]
  },
  {
   "cell_type": "markdown",
   "metadata": {},
   "source": [
    "## Part 3: Digital signature"
   ]
  },
  {
   "cell_type": "markdown",
   "metadata": {},
   "source": [
    "Write a function to sign a given message in the text file (Confidentail message) using private key which was made in the part 2.   \n",
    "You have to sign the hash of the message, not the whole message (why?). (Use SHA-256 for hashing)"
   ]
  },
  {
   "cell_type": "code",
   "execution_count": 29,
   "metadata": {},
   "outputs": [],
   "source": [
    "def sign_message(private_key:str, input_message: str):\n",
    "    message_hash = SHA256.new (input_message.encode ())\n",
    "    signer = PKCS115_SigScheme (private_key)\n",
    "    signature = signer.sign (message_hash)\n",
    "    return signature"
   ]
  },
  {
   "cell_type": "code",
   "execution_count": 30,
   "metadata": {},
   "outputs": [],
   "source": [
    "def message_verification(input_message:str, signature:str, public_key:str):\n",
    "    message_hash = SHA256.new (input_message.encode ())\n",
    "    verifier = PKCS115_SigScheme (public_key)\n",
    "    try:\n",
    "        verifier.verify (message_hash, signature)\n",
    "        return True\n",
    "    except:\n",
    "        return False"
   ]
  },
  {
   "cell_type": "code",
   "execution_count": 31,
   "metadata": {},
   "outputs": [
    {
     "name": "stdout",
     "output_type": "stream",
     "text": [
      "Signature: b';\\xb1\\x99S\\x0e\\x9c\\x11\\xacK+n\\xed\\xa4\\x03\\x94\\xe0\\xf5\\xc8@0<\\xde~\\xcb\\xde\\x98\\xc4\\xed\\t1\\xd5\\x02\\xe2\\x9a\\xe1Z\\x1e\\xbcA\\xf0\\xc0f\\x01\\x91*\\x16\\xb6\\xb2\\xb0P\\x91\\xb9wW\\xd05\\x8da\\xf8t\\xe2b\\x06\\xf77\\xb2\\x93Z\\r\\xe3\\xac\\xb9\\x07Sm\\x90^T\\xca\\x99\\x02T\\xbf\\x0e\\xcc\\xcc(\\xc6\\x91\\\\\\x7f%\\x05\\xae\\xcc\\xb3yK8\"\\x05\\x99k\\xeb\\x8f\\x7f\\xd1e\\x85\\x14@\\xed\\xc2j\\xd8\\xa0p)\\xdc$\\xd9\\xf6\\x8d,\\xaci\\xa9\\x86\\xf9(\\xb8\\xcc~\\\\4l\\xbbZE\\xa9.&\\xe8~p\\xb7\\xf6n\\x92\\x948m\\xb0c4\\x1b\\x9f\\xc8P\"1\\xa1/\\n\\xcc\\xd7\\xf9\\x8f\\xc0f\\xf6\\x15\\x87Vy\\xad\\xcf\\xb9\\x80w6\\xe5D/\\xaf\\x95\\xa0\\xbah7\\xfa^N\\x03`\\x85\\xb8V\\xa3\\xd7\\xbe\\xb7 \\x8f(i-\\xa2b(0\\x89\\x86\\xc3\\xab\\n\\x01l\\x01\\xad\\x081\\xadi\\x0c)&\\x86Y\\x99V~\\x81<\\t_\\xd6\\xa0S\\x05*\\x01y\\xa8\\xe8\\n\\xbe\\x1cRR\\rt]i\\xfa\\x15'\n",
      "Signature in hex format: b'3bb199530e9c11ac4b2b6eeda40394e0f5c840303cde7ecbde98c4ed0931d502e29ae15a1ebc41f0c06601912a16b6b2b05091b97757d0358d61f874e26206f737b2935a0de3acb907536d905e54ca990254bf0ecccc28c6915c7f2505aeccb3794b382205996beb8f7fd165851440edc26ad8a07029dc24d9f68d2cac69a986f928b8cc7e5c346cbb5a45a92e26e87e70b7f66e9294386db063341b9fc8502231a12f0accd7f98fc066f615875679adcfb9807736e5442faf95a0ba6837fa5e4e036085b856a3d7beb7208f28692da26228308986c3ab0a016c01ad0831ad690c2926865999567e813c095fd6a053052a0179a8e80abe1c52520d745d69fa15'\n",
      "Result: True\n"
     ]
    }
   ],
   "source": [
    "signature = sign_message (pair_key, message)\n",
    "\n",
    "result = message_verification (message, signature, pair_key.public_key ())\n",
    "print (\"Signature:\", signature)\n",
    "print (\"Signature in hex format:\", binascii.hexlify (signature))\n",
    "print (\"Result:\", result)"
   ]
  },
  {
   "cell_type": "markdown",
   "metadata": {},
   "source": [
    "## Questions"
   ]
  },
  {
   "cell_type": "markdown",
   "metadata": {},
   "source": [
    "1- The hash acts as a measure to determine if the message has been changed since it was signed. That way the recipient knows that the message is the same as when it was signed (integrity). </br>\n",
    "Applying the private key to the hash is more computationally efficient (smaller thing to encrypt), and encrypting the message may not be necessary if confidentiality is not required/desired. </br>\n",
    "Using a hash function is necessary because the RSA algorithm relies on integers modulo a given integer (which is part of the public key), so it cannot work with values which do not fit in that limited range. The hash function is also needed to ensure non-malleability (a rather technical internal characteristic). Using a hash function is sufficient because of the properties of cryptographic hash functions; namely, the resistance of hash functions to collisions and preimages really means that signing a hash is \"as good\" as signing the original message."
   ]
  },
  {
   "cell_type": "markdown",
   "metadata": {},
   "source": [
    "3- MAC: MAC (Message Authentication Code) is a cryptographic technique used to verify the integrity and authenticity of a message. It ensures that the message has not been tampered with during transmission and that it originates from a trusted sender. </br>\n",
    "MAC ensures that the message has not been tampered with during transmission. Any modification to the message or its content would result in a different MAC value, which would fail the verification process. Since the MAC is generated using a shared secret key, its verification confirms that the message originated from a trusted sender who possesses the key. MAC algorithms are designed to be resistant to various cryptographic attacks, providing a high level of security for message authentication. MAC algorithms are computationally efficient, making them suitable for use in various communication protocols and systems. </br>\n",
    "usage: 1- Network Security: MAC is widely used in network protocols such as TLS (Transport Layer Security) and IPsec (Internet Protocol Security) to authenticate the origin and integrity of data packets exchanged between communicating parties. </br>\n",
    "2- Data Integrity: MAC is used to verify the integrity of data stored or transmitted over insecure channels. By attaching a MAC to each message or data block, recipients can detect any unauthorized modifications to the data. </br>\n",
    "3- Message Authentication: In secure messaging systems, MAC ensures that messages originate from trusted sources and have not been tampered with during transmission. This is crucial for protecting against message forgery and impersonation attacks. </br>\n",
    "4- Access Control: MAC can be used in access control mechanisms to authenticate users and devices before granting access to sensitive resources or services. For example, MAC-based authentication is employed in Wi-Fi networks to ensure that only authorized devices can connect to the network. </br>\n",
    "5- Cryptographic Protocols: MAC is an essential component of various cryptographic protocols, including digital signatures, key exchange protocols, and authenticated encryption schemes. It helps ensure the security and reliability of these protocols by providing message authentication and integrity protection. </br>\n",
    "6- Data Storage: MAC can be used to authenticate data stored in databases, file systems, or cloud storage services. By calculating and storing MAC values alongside data, organizations can detect any unauthorized modifications or data corruption.\n",
    "</br>\n",
    "</br>\n",
    "HMAC: HMAC (Hash-based Message Authentication Code) is a mechanism used for verifying both the integrity and authenticity of a message. It is constructed using a cryptographic hash function in combination with a secret key. HMAC is widely used in various security protocols and applications due to its effectiveness and security properties. </br>\n",
    "HMAC provides strong security guarantees against various cryptographic attacks, including collision attacks and birthday attacks. Efficiency: HMAC is computationally efficient and can be implemented using standard cryptographic libraries available in most programming languages. Flexibility: HMAC can be used with any cryptographic hash function, allowing for flexibility in choosing the appropriate hash algorithm based on security requirements and performance considerations. </br>\n",
    "usage: 1- Secure Communication Protocols: HMAC is widely used in secure communication protocols such as TLS (Transport Layer Security) and IPsec (Internet Protocol Security) to authenticate the origin and integrity of transmitted data packets. It helps ensure that data exchanged between communicating parties has not been tampered with during transmission and that it originates from a trusted source. </br>\n",
    "2- API Authentication: HMAC is frequently used in API (Application Programming Interface) authentication mechanisms to verify the authenticity of API requests. Clients generate HMACs based on request parameters and a shared secret key, which servers then validate to authenticate the requests and prevent unauthorized access. </br>\n",
    "3- Message Integrity Verification: HMAC is employed to verify the integrity of messages transmitted over insecure channels, such as email or instant messaging. By calculating and comparing HMACs of received messages with the expected HMACs, recipients can detect any unauthorized modifications or tampering. </br>\n",
    "4- File Integrity Checking: HMAC is used to ensure the integrity of files stored or transferred between systems. By calculating HMACs for files and comparing them with precomputed HMAC values, recipients can verify that the files have not been altered or corrupted. </br>\n",
    "5- Digital Signatures: HMAC can be used in conjunction with digital signatures to provide additional security and authenticity verification. In some cases, HMACs are computed over the data to be signed before applying a digital signature algorithm, adding an extra layer of integrity protection. </br>\n",
    "6- Password-based Authentication: HMAC is employed in password-based authentication schemes to securely authenticate users without transmitting passwords in plaintext. Clients and servers derive HMACs from user passwords and compare them during authentication to verify user identities without exposing sensitive information. </br>\n",
    "7-Message Authentication in IoT (Internet of Things): HMAC is utilized in IoT devices and protocols to authenticate and secure communications between connected devices and systems. It helps ensure the integrity and authenticity of data exchanged in IoT networks, protecting against unauthorized access and tampering."
   ]
  }
 ],
 "metadata": {
  "kernelspec": {
   "display_name": "Python 3 (ipykernel)",
   "language": "python",
   "name": "python3"
  },
  "language_info": {
   "codemirror_mode": {
    "name": "ipython",
    "version": 3
   },
   "file_extension": ".py",
   "mimetype": "text/x-python",
   "name": "python",
   "nbconvert_exporter": "python",
   "pygments_lexer": "ipython3",
   "version": "3.11.4"
  }
 },
 "nbformat": 4,
 "nbformat_minor": 2
}
